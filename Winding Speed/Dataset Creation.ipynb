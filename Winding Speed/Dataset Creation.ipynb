{
 "cells": [
  {
   "cell_type": "markdown",
   "id": "3fec7ac5",
   "metadata": {},
   "source": [
    "The goal of this notebook is to create a dataset using the recorded information we have.\n",
    "\n",
    "Input:\n",
    "- background: recording of the watch\n",
    "- tacs: 10 seconds recording contains one tac every second\n",
    "\n",
    "Ouput:\n",
    "- dataset contining (x_n, y_n) where x_n is either a sound represetantion and y_n is 0 or 1 according whether it contains a tac"
   ]
  },
  {
   "cell_type": "markdown",
   "id": "18b9e0d2",
   "metadata": {},
   "source": [
    "# Importing Librairies"
   ]
  },
  {
   "cell_type": "code",
   "execution_count": 1,
   "id": "a2c97239",
   "metadata": {
    "ExecuteTime": {
     "end_time": "2021-12-05T23:12:00.614565Z",
     "start_time": "2021-12-05T23:11:59.135057Z"
    }
   },
   "outputs": [],
   "source": [
    "import numpy as np\n",
    "import pandas as pd\n",
    "import librosa\n",
    "import IPython.display as ipd\n",
    "%matplotlib inline\n",
    "import random\n",
    "import matplotlib.pyplot as plt\n",
    "import librosa.display\n",
    "import warnings\n",
    "warnings.filterwarnings('ignore')\n",
    "import scipy, matplotlib\n",
    "from random import randrange\n",
    "import librosa as lb\n",
    "\n",
    "from scipy.fft import fft, fftfreq\n",
    "from random import seed\n",
    "from random import random\n",
    "\n",
    "from scipy.fft import rfft, rfftfreq\n",
    "from scipy.signal import butter,filtfilt\n",
    "import plotly.graph_objects as go\n",
    "\n",
    "import sklearn\n",
    "from scipy.io.wavfile import write\n",
    "\n",
    "import soundfile as sf\n",
    "\n",
    "from pydub import AudioSegment\n",
    "\n"
   ]
  },
  {
   "cell_type": "markdown",
   "id": "b282a37a",
   "metadata": {},
   "source": [
    "# Importing Data "
   ]
  },
  {
   "cell_type": "code",
   "execution_count": 2,
   "id": "2d4148e0",
   "metadata": {
    "ExecuteTime": {
     "end_time": "2021-12-05T23:12:02.941164Z",
     "start_time": "2021-12-05T23:12:02.939285Z"
    }
   },
   "outputs": [],
   "source": [
    "def time_visualize(x,sr):\n",
    "    plt.figure(figsize=(14, 5))\n",
    "    librosa.display.waveplot(x, sr=sr)"
   ]
  },
  {
   "cell_type": "code",
   "execution_count": null,
   "id": "1e3a386c",
   "metadata": {
    "ExecuteTime": {
     "start_time": "2021-12-05T23:12:10.118Z"
    }
   },
   "outputs": [],
   "source": [
    "def import_audio(PATH):\n",
    "    x , sr = lb.load(PATH)\n",
    "    ipd.Audio(PATH)\n",
    "    duration = librosa.get_duration(x,sr)\n",
    "    return x,sr,duration"
   ]
  },
  {
   "cell_type": "code",
   "execution_count": null,
   "id": "2dd3826d",
   "metadata": {
    "ExecuteTime": {
     "start_time": "2021-12-05T23:12:08.640Z"
    }
   },
   "outputs": [],
   "source": [
    "tacs= import_audio(\"/Users/mohamedalidhraief/Documents/MA1/MGT 555/Sound Detection /data/Recharge.m4a\")\n",
    "background=import_audio(\"/Users/mohamedalidhraief/Documents/MA1/MGT 555/Sound Detection /data/Background Dataset.mp4\")"
   ]
  },
  {
   "cell_type": "code",
   "execution_count": null,
   "id": "e3f71469",
   "metadata": {
    "ExecuteTime": {
     "start_time": "2021-12-05T23:12:14.581Z"
    }
   },
   "outputs": [],
   "source": [
    "n_tacs=int(tacs[2])\n",
    "dur_background=int(background[2])\n",
    "sr=int(tacs[1])"
   ]
  },
  {
   "cell_type": "code",
   "execution_count": null,
   "id": "f870fa28",
   "metadata": {
    "ExecuteTime": {
     "start_time": "2021-12-05T23:12:15.845Z"
    }
   },
   "outputs": [],
   "source": [
    "time_visualize(tacs[0],sr)"
   ]
  },
  {
   "cell_type": "markdown",
   "id": "6e4c8486",
   "metadata": {},
   "source": [
    "## Isolating the tacs"
   ]
  },
  {
   "cell_type": "markdown",
   "id": "b14daa56",
   "metadata": {},
   "source": [
    "The goal of this section is to divide the 10 seconds recording into 10 * 1 seconds "
   ]
  },
  {
   "cell_type": "code",
   "execution_count": null,
   "id": "f1c1fc1d",
   "metadata": {
    "ExecuteTime": {
     "start_time": "2021-12-05T23:12:16.968Z"
    }
   },
   "outputs": [],
   "source": [
    "def divide_to_seconds(tab):\n",
    "    x,sr,dur= tab\n",
    "    dur=int(dur)\n",
    "    res=[]\n",
    "    for i in range(dur):\n",
    "        res.append(x[i*sr:sr*(i+1)])\n",
    "    return res\n",
    "    "
   ]
  },
  {
   "cell_type": "code",
   "execution_count": null,
   "id": "de986263",
   "metadata": {
    "ExecuteTime": {
     "start_time": "2021-12-05T23:12:17.455Z"
    }
   },
   "outputs": [],
   "source": [
    "tacs_divided=divide_to_seconds(tacs)\n",
    "background_divided=divide_to_seconds(background)"
   ]
  },
  {
   "cell_type": "code",
   "execution_count": null,
   "id": "d28c920d",
   "metadata": {
    "ExecuteTime": {
     "start_time": "2021-12-05T23:12:18.015Z"
    }
   },
   "outputs": [],
   "source": [
    "import random\n"
   ]
  },
  {
   "cell_type": "code",
   "execution_count": null,
   "id": "4ad9d7b3",
   "metadata": {
    "ExecuteTime": {
     "start_time": "2021-12-05T23:12:18.496Z"
    }
   },
   "outputs": [],
   "source": [
    "tacs_f=[]\n",
    "for tac in tacs_divided:\n",
    "    shifts= random.sample(range(1, sr), 500)\n",
    "    for t_shift in shifts:\n",
    "        tacs_f.append(np.roll(tac,t_shift))\n",
    "tacs_f=np.array(tacs_f)"
   ]
  },
  {
   "cell_type": "code",
   "execution_count": null,
   "id": "097d3afc",
   "metadata": {
    "ExecuteTime": {
     "start_time": "2021-12-05T23:12:19.822Z"
    }
   },
   "outputs": [],
   "source": [
    "from numpy import savetxt\n",
    "#savetxt('tacs_f.csv', tacs_f, delimiter=',')"
   ]
  },
  {
   "cell_type": "code",
   "execution_count": null,
   "id": "64eba676",
   "metadata": {
    "ExecuteTime": {
     "start_time": "2021-12-05T23:12:20.766Z"
    }
   },
   "outputs": [],
   "source": [
    "def shift_div(tab,n_shifts):\n",
    "    res=[]\n",
    "    for t in tab:\n",
    "        shifts= random.sample(range(1, sr), n_shifts)\n",
    "        shifts.append(0)\n",
    "        for t_shift in shifts:\n",
    "            res.append(np.roll(t,t_shift))\n",
    "    return res"
   ]
  },
  {
   "cell_type": "code",
   "execution_count": null,
   "id": "31ddef61",
   "metadata": {
    "ExecuteTime": {
     "start_time": "2021-12-05T23:12:21.974Z"
    }
   },
   "outputs": [],
   "source": [
    "shifts= [1000*x for x in range (22)]\n",
    "background_f_array=[]\n",
    "for background in background_divided:\n",
    "    for t_shift in shifts:\n",
    "        background_f_array.append(np.roll(background,t_shift))\n",
    "background_f=np.array(background_f_array)\n",
    "\n"
   ]
  },
  {
   "cell_type": "code",
   "execution_count": 16,
   "id": "38be7d71",
   "metadata": {
    "ExecuteTime": {
     "end_time": "2021-12-05T22:41:08.435140Z",
     "start_time": "2021-12-05T22:41:08.416855Z"
    }
   },
   "outputs": [],
   "source": [
    "#savetxt('background_f.csv', background_f, delimiter=',')"
   ]
  },
  {
   "cell_type": "markdown",
   "id": "a673db5f",
   "metadata": {},
   "source": [
    "# Dataset Creation"
   ]
  },
  {
   "cell_type": "markdown",
   "id": "cba1480d",
   "metadata": {},
   "source": [
    "## Data Augmentation"
   ]
  },
  {
   "cell_type": "markdown",
   "id": "fdc99933",
   "metadata": {},
   "source": [
    "- Get where the tac happens \n",
    "- Shift the tac"
   ]
  },
  {
   "cell_type": "code",
   "execution_count": null,
   "id": "d4146ca0",
   "metadata": {
    "ExecuteTime": {
     "start_time": "2021-12-05T23:12:23.796Z"
    }
   },
   "outputs": [],
   "source": [
    "def add_noise(data):\n",
    "        noise = np.random.randn(len(data))\n",
    "        data_noise = data + 0.005 * noise\n",
    "        return data_noise\n",
    "      \n",
    "\n",
    "def stretch(data, rate=1):\n",
    "        input_length = 16000\n",
    "        data = librosa.effects.time_stretch(data, rate)\n",
    "        if len(data) > input_length:\n",
    "            data = data[:input_length]\n",
    "        else:\n",
    "            data = np.pad(data, (0, max(0, input_length - len(data))), \"constant\")\n",
    "        return data"
   ]
  },
  {
   "cell_type": "markdown",
   "id": "9a8219d7",
   "metadata": {},
   "source": [
    "## Dataset Creation Method 2"
   ]
  },
  {
   "cell_type": "code",
   "execution_count": null,
   "id": "16a160b3",
   "metadata": {
    "ExecuteTime": {
     "start_time": "2021-12-05T23:12:25.557Z"
    }
   },
   "outputs": [],
   "source": [
    "# load numpy array from csv file\n",
    "from numpy import loadtxt\n",
    "# load array\n",
    "#tacs = loadtxt('tacs_f.csv', delimiter=',')\n",
    "#background_f=loadtxt('background_f.csv', delimiter=',')"
   ]
  },
  {
   "cell_type": "code",
   "execution_count": null,
   "id": "4e1f7cda",
   "metadata": {
    "ExecuteTime": {
     "start_time": "2021-12-05T23:12:26.088Z"
    }
   },
   "outputs": [],
   "source": [
    "from numpy import savetxt\n",
    "n_tacs=tacs_f.shape[0]\n",
    "n_back=background_f.shape[0]\n",
    "y_0=[0 for x in range(n_back)]\n",
    "y_1=[1 for x in range(n_back)]"
   ]
  },
  {
   "cell_type": "markdown",
   "id": "6ed65742",
   "metadata": {},
   "source": [
    "### Adding zeros"
   ]
  },
  {
   "cell_type": "code",
   "execution_count": 2,
   "id": "926f8951",
   "metadata": {
    "ExecuteTime": {
     "end_time": "2021-12-07T19:59:51.950123Z",
     "start_time": "2021-12-07T19:59:51.947268Z"
    }
   },
   "outputs": [],
   "source": [
    "import numpy as np"
   ]
  },
  {
   "cell_type": "code",
   "execution_count": 3,
   "id": "af90125e",
   "metadata": {
    "ExecuteTime": {
     "end_time": "2021-12-07T19:59:59.343466Z",
     "start_time": "2021-12-07T19:59:59.326168Z"
    }
   },
   "outputs": [
    {
     "data": {
      "text/plain": [
       "array([0.79552605, 0.49522615, 0.26985346, 0.91495611, 0.03373303,\n",
       "       0.69854675, 0.87783714, 0.01644617, 0.89021978, 0.27670142])"
      ]
     },
     "execution_count": 3,
     "metadata": {},
     "output_type": "execute_result"
    }
   ],
   "source": [
    "np.random.rand(10)"
   ]
  },
  {
   "cell_type": "code",
   "execution_count": 15,
   "id": "4f8d226d",
   "metadata": {
    "ExecuteTime": {
     "end_time": "2021-12-05T11:14:38.980487Z",
     "start_time": "2021-12-05T11:14:29.325016Z"
    }
   },
   "outputs": [],
   "source": [
    "def add_noise(row,mean):\n",
    "    return row+ meann*np.random.rand(row.shape[0])"
   ]
  },
  {
   "cell_type": "code",
   "execution_count": 16,
   "id": "3cc7f6e6",
   "metadata": {
    "ExecuteTime": {
     "end_time": "2021-12-05T11:15:34.241429Z",
     "start_time": "2021-12-05T11:14:38.983062Z"
    }
   },
   "outputs": [],
   "source": [
    "mean=np.mean(background_f)\n",
    "noise=mean*np.random.rand(background_f.shape[0],background_f.shape[1])\n"
   ]
  },
  {
   "cell_type": "code",
   "execution_count": null,
   "id": "f9a74ef0",
   "metadata": {
    "ExecuteTime": {
     "start_time": "2021-12-05T11:17:38.930Z"
    }
   },
   "outputs": [],
   "source": [
    "np.roll(noise,1,axis=0)"
   ]
  },
  {
   "cell_type": "code",
   "execution_count": null,
   "id": "2042942b",
   "metadata": {},
   "outputs": [],
   "source": [
    "ctr=0\n",
    "for i in range(16):\n",
    "    print(i)\n",
    "    data_noise = np.add(background_f, 0.005 * noise)\n",
    "    d={\"Audio time list\":data_noise,\"Label\":y_0}\n",
    "    df=pd.DataFrame(data=d)\n",
    "    print(\"df created\")\n",
    "    ctr+=1\n",
    "    df.to_csv(\"Dataset Sound Detection_0\"+str(ctr)+\".csv\")\n",
    "    noise=np.roll(noise,1,axis=0)\n",
    "    \n",
    "\n",
    "\n",
    "\n"
   ]
  },
  {
   "cell_type": "markdown",
   "id": "2400fbb6",
   "metadata": {},
   "source": [
    "Roll is fater than tile, use np.add for the addition"
   ]
  },
  {
   "cell_type": "markdown",
   "id": "fc3abbb5",
   "metadata": {},
   "source": [
    "### Getting the 1's"
   ]
  },
  {
   "cell_type": "markdown",
   "id": "7f491921",
   "metadata": {},
   "source": [
    "Trying the tacs in a matrix to be rolled"
   ]
  },
  {
   "cell_type": "code",
   "execution_count": null,
   "id": "b7afb5e2",
   "metadata": {},
   "outputs": [],
   "source": [
    "df_in=pd.read_csv(\"\")"
   ]
  },
  {
   "cell_type": "code",
   "execution_count": null,
   "id": "69407e00",
   "metadata": {
    "ExecuteTime": {
     "start_time": "2021-12-05T23:12:47.272Z"
    }
   },
   "outputs": [],
   "source": [
    "print(\"done\")"
   ]
  },
  {
   "cell_type": "code",
   "execution_count": 20,
   "id": "65cf20a1",
   "metadata": {
    "ExecuteTime": {
     "end_time": "2021-12-05T22:31:11.387343Z",
     "start_time": "2021-12-05T22:31:08.064678Z"
    }
   },
   "outputs": [],
   "source": [
    "tacs_matrix = np.vstack([tacs_f]*(1+int(n_back/n_tacs)))\n",
    "tacs_matrix= tacs_matrix[:n_back]\n"
   ]
  },
  {
   "cell_type": "code",
   "execution_count": 1,
   "id": "41e34f56",
   "metadata": {
    "ExecuteTime": {
     "end_time": "2021-12-05T22:38:02.034094Z",
     "start_time": "2021-12-05T22:38:01.971621Z"
    },
    "collapsed": true
   },
   "outputs": [
    {
     "ename": "NameError",
     "evalue": "name 'np' is not defined",
     "output_type": "error",
     "traceback": [
      "\u001b[0;31m---------------------------------------------------------------------------\u001b[0m",
      "\u001b[0;31mNameError\u001b[0m                                 Traceback (most recent call last)",
      "\u001b[0;32m<ipython-input-1-81e84b98f2e8>\u001b[0m in \u001b[0;36m<module>\u001b[0;34m\u001b[0m\n\u001b[0;32m----> 1\u001b[0;31m \u001b[0mtacs_matrix\u001b[0m\u001b[0;34m=\u001b[0m\u001b[0mnp\u001b[0m\u001b[0;34m.\u001b[0m\u001b[0mroll\u001b[0m\u001b[0;34m(\u001b[0m\u001b[0mtacs_matrix\u001b[0m\u001b[0;34m,\u001b[0m\u001b[0;36m1\u001b[0m\u001b[0;34m,\u001b[0m\u001b[0maxis\u001b[0m\u001b[0;34m=\u001b[0m\u001b[0;36m0\u001b[0m\u001b[0;34m)\u001b[0m\u001b[0;34m\u001b[0m\u001b[0;34m\u001b[0m\u001b[0m\n\u001b[0m\u001b[1;32m      2\u001b[0m \u001b[0mtest\u001b[0m\u001b[0;34m=\u001b[0m\u001b[0mnp\u001b[0m\u001b[0;34m.\u001b[0m\u001b[0madd\u001b[0m\u001b[0;34m(\u001b[0m\u001b[0mbackground_f\u001b[0m\u001b[0;34m,\u001b[0m\u001b[0mtacs_matrix\u001b[0m\u001b[0;34m)\u001b[0m\u001b[0;34m\u001b[0m\u001b[0;34m\u001b[0m\u001b[0m\n",
      "\u001b[0;31mNameError\u001b[0m: name 'np' is not defined"
     ]
    }
   ],
   "source": [
    "tacs_matrix=np.roll(tacs_matrix,1,axis=0)\n",
    "test=np.add(background_f,tacs_matrix)\n"
   ]
  },
  {
   "cell_type": "markdown",
   "id": "91bcd96c",
   "metadata": {},
   "source": [
    "trying to use _csv function"
   ]
  },
  {
   "cell_type": "code",
   "execution_count": null,
   "id": "6454fc0d",
   "metadata": {},
   "outputs": [],
   "source": [
    "for i in range(len(tacs_f)):\n",
    "    tac= tacs_f[i]\n",
    "    print(\"*******\", i)\n",
    "    d={\"Audio time list\":[row+tac for row in background_f]}\n",
    "    df=pd.DataFrame(data=d)\n",
    "    print(\"df created\")\n",
    "    ctr+=1\n",
    "    df.to_csv(\"Dataset Sound Detection_\"+str(ctr)+\".csv\")\n",
    "    \n",
    "\n",
    "\n",
    "\n",
    "\n"
   ]
  },
  {
   "cell_type": "code",
   "execution_count": 41,
   "id": "4ed7a002",
   "metadata": {
    "ExecuteTime": {
     "end_time": "2021-12-05T22:52:59.675172Z",
     "start_time": "2021-12-05T22:51:56.543863Z"
    }
   },
   "outputs": [],
   "source": [
    "tac=tacs_f[0]\n",
    "d=[row+tac for row in background_f]\n",
    "\n"
   ]
  },
  {
   "cell_type": "code",
   "execution_count": null,
   "id": "acbd048a",
   "metadata": {
    "ExecuteTime": {
     "start_time": "2021-12-05T23:06:43.343Z"
    }
   },
   "outputs": [],
   "source": [
    "df_out=pd.DataFrame(data=d)"
   ]
  },
  {
   "cell_type": "code",
   "execution_count": null,
   "id": "7bf4dbae",
   "metadata": {
    "ExecuteTime": {
     "start_time": "2021-12-05T23:07:12.536Z"
    }
   },
   "outputs": [],
   "source": [
    "dictionary=dict(list(enumerate(d)))\n",
    "len(dictionary[n_back-1])\n",
    "df_out2=pd.DataFrame(data=dictionary)\n",
    "df_out2.head()"
   ]
  },
  {
   "cell_type": "code",
   "execution_count": 56,
   "id": "a888d16e",
   "metadata": {
    "ExecuteTime": {
     "end_time": "2021-12-05T23:03:47.443773Z",
     "start_time": "2021-12-05T23:01:33.048812Z"
    },
    "collapsed": true
   },
   "outputs": [
    {
     "ename": "KeyboardInterrupt",
     "evalue": "",
     "output_type": "error",
     "traceback": [
      "\u001b[0;31m---------------------------------------------------------------------------\u001b[0m",
      "\u001b[0;31mKeyboardInterrupt\u001b[0m                         Traceback (most recent call last)",
      "\u001b[0;32m<ipython-input-56-52c2802210e0>\u001b[0m in \u001b[0;36m<module>\u001b[0;34m\u001b[0m\n\u001b[0;32m----> 1\u001b[0;31m \u001b[0mdf_out\u001b[0m\u001b[0;34m.\u001b[0m\u001b[0mto_csv\u001b[0m\u001b[0;34m(\u001b[0m\u001b[0;34m\"Testing1.csv\"\u001b[0m\u001b[0;34m)\u001b[0m\u001b[0;34m\u001b[0m\u001b[0;34m\u001b[0m\u001b[0m\n\u001b[0m",
      "\u001b[0;32m~/opt/anaconda3/lib/python3.8/site-packages/pandas/core/generic.py\u001b[0m in \u001b[0;36mto_csv\u001b[0;34m(self, path_or_buf, sep, na_rep, float_format, columns, header, index, index_label, mode, encoding, compression, quoting, quotechar, line_terminator, chunksize, date_format, doublequote, escapechar, decimal, errors, storage_options)\u001b[0m\n\u001b[1;32m   3385\u001b[0m         )\n\u001b[1;32m   3386\u001b[0m \u001b[0;34m\u001b[0m\u001b[0m\n\u001b[0;32m-> 3387\u001b[0;31m         return DataFrameRenderer(formatter).to_csv(\n\u001b[0m\u001b[1;32m   3388\u001b[0m             \u001b[0mpath_or_buf\u001b[0m\u001b[0;34m,\u001b[0m\u001b[0;34m\u001b[0m\u001b[0;34m\u001b[0m\u001b[0m\n\u001b[1;32m   3389\u001b[0m             \u001b[0mline_terminator\u001b[0m\u001b[0;34m=\u001b[0m\u001b[0mline_terminator\u001b[0m\u001b[0;34m,\u001b[0m\u001b[0;34m\u001b[0m\u001b[0;34m\u001b[0m\u001b[0m\n",
      "\u001b[0;32m~/opt/anaconda3/lib/python3.8/site-packages/pandas/io/formats/format.py\u001b[0m in \u001b[0;36mto_csv\u001b[0;34m(self, path_or_buf, encoding, sep, columns, index_label, mode, compression, quoting, quotechar, line_terminator, chunksize, date_format, doublequote, escapechar, errors, storage_options)\u001b[0m\n\u001b[1;32m   1081\u001b[0m             \u001b[0mformatter\u001b[0m\u001b[0;34m=\u001b[0m\u001b[0mself\u001b[0m\u001b[0;34m.\u001b[0m\u001b[0mfmt\u001b[0m\u001b[0;34m,\u001b[0m\u001b[0;34m\u001b[0m\u001b[0;34m\u001b[0m\u001b[0m\n\u001b[1;32m   1082\u001b[0m         )\n\u001b[0;32m-> 1083\u001b[0;31m         \u001b[0mcsv_formatter\u001b[0m\u001b[0;34m.\u001b[0m\u001b[0msave\u001b[0m\u001b[0;34m(\u001b[0m\u001b[0;34m)\u001b[0m\u001b[0;34m\u001b[0m\u001b[0;34m\u001b[0m\u001b[0m\n\u001b[0m\u001b[1;32m   1084\u001b[0m \u001b[0;34m\u001b[0m\u001b[0m\n\u001b[1;32m   1085\u001b[0m         \u001b[0;32mif\u001b[0m \u001b[0mcreated_buffer\u001b[0m\u001b[0;34m:\u001b[0m\u001b[0;34m\u001b[0m\u001b[0;34m\u001b[0m\u001b[0m\n",
      "\u001b[0;32m~/opt/anaconda3/lib/python3.8/site-packages/pandas/io/formats/csvs.py\u001b[0m in \u001b[0;36msave\u001b[0;34m(self)\u001b[0m\n\u001b[1;32m    246\u001b[0m             )\n\u001b[1;32m    247\u001b[0m \u001b[0;34m\u001b[0m\u001b[0m\n\u001b[0;32m--> 248\u001b[0;31m             \u001b[0mself\u001b[0m\u001b[0;34m.\u001b[0m\u001b[0m_save\u001b[0m\u001b[0;34m(\u001b[0m\u001b[0;34m)\u001b[0m\u001b[0;34m\u001b[0m\u001b[0;34m\u001b[0m\u001b[0m\n\u001b[0m\u001b[1;32m    249\u001b[0m \u001b[0;34m\u001b[0m\u001b[0m\n\u001b[1;32m    250\u001b[0m     \u001b[0;32mdef\u001b[0m \u001b[0m_save\u001b[0m\u001b[0;34m(\u001b[0m\u001b[0mself\u001b[0m\u001b[0;34m)\u001b[0m \u001b[0;34m->\u001b[0m \u001b[0;32mNone\u001b[0m\u001b[0;34m:\u001b[0m\u001b[0;34m\u001b[0m\u001b[0;34m\u001b[0m\u001b[0m\n",
      "\u001b[0;32m~/opt/anaconda3/lib/python3.8/site-packages/pandas/io/formats/csvs.py\u001b[0m in \u001b[0;36m_save\u001b[0;34m(self)\u001b[0m\n\u001b[1;32m    251\u001b[0m         \u001b[0;32mif\u001b[0m \u001b[0mself\u001b[0m\u001b[0;34m.\u001b[0m\u001b[0m_need_to_save_header\u001b[0m\u001b[0;34m:\u001b[0m\u001b[0;34m\u001b[0m\u001b[0;34m\u001b[0m\u001b[0m\n\u001b[1;32m    252\u001b[0m             \u001b[0mself\u001b[0m\u001b[0;34m.\u001b[0m\u001b[0m_save_header\u001b[0m\u001b[0;34m(\u001b[0m\u001b[0;34m)\u001b[0m\u001b[0;34m\u001b[0m\u001b[0;34m\u001b[0m\u001b[0m\n\u001b[0;32m--> 253\u001b[0;31m         \u001b[0mself\u001b[0m\u001b[0;34m.\u001b[0m\u001b[0m_save_body\u001b[0m\u001b[0;34m(\u001b[0m\u001b[0;34m)\u001b[0m\u001b[0;34m\u001b[0m\u001b[0;34m\u001b[0m\u001b[0m\n\u001b[0m\u001b[1;32m    254\u001b[0m \u001b[0;34m\u001b[0m\u001b[0m\n\u001b[1;32m    255\u001b[0m     \u001b[0;32mdef\u001b[0m \u001b[0m_save_header\u001b[0m\u001b[0;34m(\u001b[0m\u001b[0mself\u001b[0m\u001b[0;34m)\u001b[0m \u001b[0;34m->\u001b[0m \u001b[0;32mNone\u001b[0m\u001b[0;34m:\u001b[0m\u001b[0;34m\u001b[0m\u001b[0;34m\u001b[0m\u001b[0m\n",
      "\u001b[0;32m~/opt/anaconda3/lib/python3.8/site-packages/pandas/io/formats/csvs.py\u001b[0m in \u001b[0;36m_save_body\u001b[0;34m(self)\u001b[0m\n\u001b[1;32m    289\u001b[0m             \u001b[0;32mif\u001b[0m \u001b[0mstart_i\u001b[0m \u001b[0;34m>=\u001b[0m \u001b[0mend_i\u001b[0m\u001b[0;34m:\u001b[0m\u001b[0;34m\u001b[0m\u001b[0;34m\u001b[0m\u001b[0m\n\u001b[1;32m    290\u001b[0m                 \u001b[0;32mbreak\u001b[0m\u001b[0;34m\u001b[0m\u001b[0;34m\u001b[0m\u001b[0m\n\u001b[0;32m--> 291\u001b[0;31m             \u001b[0mself\u001b[0m\u001b[0;34m.\u001b[0m\u001b[0m_save_chunk\u001b[0m\u001b[0;34m(\u001b[0m\u001b[0mstart_i\u001b[0m\u001b[0;34m,\u001b[0m \u001b[0mend_i\u001b[0m\u001b[0;34m)\u001b[0m\u001b[0;34m\u001b[0m\u001b[0;34m\u001b[0m\u001b[0m\n\u001b[0m\u001b[1;32m    292\u001b[0m \u001b[0;34m\u001b[0m\u001b[0m\n\u001b[1;32m    293\u001b[0m     \u001b[0;32mdef\u001b[0m \u001b[0m_save_chunk\u001b[0m\u001b[0;34m(\u001b[0m\u001b[0mself\u001b[0m\u001b[0;34m,\u001b[0m \u001b[0mstart_i\u001b[0m\u001b[0;34m:\u001b[0m \u001b[0mint\u001b[0m\u001b[0;34m,\u001b[0m \u001b[0mend_i\u001b[0m\u001b[0;34m:\u001b[0m \u001b[0mint\u001b[0m\u001b[0;34m)\u001b[0m \u001b[0;34m->\u001b[0m \u001b[0;32mNone\u001b[0m\u001b[0;34m:\u001b[0m\u001b[0;34m\u001b[0m\u001b[0;34m\u001b[0m\u001b[0m\n",
      "\u001b[0;32m~/opt/anaconda3/lib/python3.8/site-packages/pandas/io/formats/csvs.py\u001b[0m in \u001b[0;36m_save_chunk\u001b[0;34m(self, start_i, end_i)\u001b[0m\n\u001b[1;32m    296\u001b[0m         \u001b[0mdf\u001b[0m \u001b[0;34m=\u001b[0m \u001b[0mself\u001b[0m\u001b[0;34m.\u001b[0m\u001b[0mobj\u001b[0m\u001b[0;34m.\u001b[0m\u001b[0miloc\u001b[0m\u001b[0;34m[\u001b[0m\u001b[0mslicer\u001b[0m\u001b[0;34m]\u001b[0m\u001b[0;34m\u001b[0m\u001b[0;34m\u001b[0m\u001b[0m\n\u001b[1;32m    297\u001b[0m \u001b[0;34m\u001b[0m\u001b[0m\n\u001b[0;32m--> 298\u001b[0;31m         \u001b[0mres\u001b[0m \u001b[0;34m=\u001b[0m \u001b[0mdf\u001b[0m\u001b[0;34m.\u001b[0m\u001b[0m_mgr\u001b[0m\u001b[0;34m.\u001b[0m\u001b[0mto_native_types\u001b[0m\u001b[0;34m(\u001b[0m\u001b[0;34m**\u001b[0m\u001b[0mself\u001b[0m\u001b[0;34m.\u001b[0m\u001b[0m_number_format\u001b[0m\u001b[0;34m)\u001b[0m\u001b[0;34m\u001b[0m\u001b[0;34m\u001b[0m\u001b[0m\n\u001b[0m\u001b[1;32m    299\u001b[0m         \u001b[0mdata\u001b[0m \u001b[0;34m=\u001b[0m \u001b[0;34m[\u001b[0m\u001b[0mres\u001b[0m\u001b[0;34m.\u001b[0m\u001b[0miget_values\u001b[0m\u001b[0;34m(\u001b[0m\u001b[0mi\u001b[0m\u001b[0;34m)\u001b[0m \u001b[0;32mfor\u001b[0m \u001b[0mi\u001b[0m \u001b[0;32min\u001b[0m \u001b[0mrange\u001b[0m\u001b[0;34m(\u001b[0m\u001b[0mlen\u001b[0m\u001b[0;34m(\u001b[0m\u001b[0mres\u001b[0m\u001b[0;34m.\u001b[0m\u001b[0mitems\u001b[0m\u001b[0;34m)\u001b[0m\u001b[0;34m)\u001b[0m\u001b[0;34m]\u001b[0m\u001b[0;34m\u001b[0m\u001b[0;34m\u001b[0m\u001b[0m\n\u001b[1;32m    300\u001b[0m \u001b[0;34m\u001b[0m\u001b[0m\n",
      "\u001b[0;32m~/opt/anaconda3/lib/python3.8/site-packages/pandas/core/internals/managers.py\u001b[0m in \u001b[0;36mto_native_types\u001b[0;34m(self, **kwargs)\u001b[0m\n\u001b[1;32m    677\u001b[0m         \u001b[0;32min\u001b[0m \u001b[0mformatting\u001b[0m \u001b[0;34m(\u001b[0m\u001b[0mrepr\u001b[0m \u001b[0;34m/\u001b[0m \u001b[0mcsv\u001b[0m\u001b[0;34m)\u001b[0m\u001b[0;34m.\u001b[0m\u001b[0;34m\u001b[0m\u001b[0;34m\u001b[0m\u001b[0m\n\u001b[1;32m    678\u001b[0m         \"\"\"\n\u001b[0;32m--> 679\u001b[0;31m         \u001b[0;32mreturn\u001b[0m \u001b[0mself\u001b[0m\u001b[0;34m.\u001b[0m\u001b[0mapply\u001b[0m\u001b[0;34m(\u001b[0m\u001b[0;34m\"to_native_types\"\u001b[0m\u001b[0;34m,\u001b[0m \u001b[0;34m**\u001b[0m\u001b[0mkwargs\u001b[0m\u001b[0;34m)\u001b[0m\u001b[0;34m\u001b[0m\u001b[0;34m\u001b[0m\u001b[0m\n\u001b[0m\u001b[1;32m    680\u001b[0m \u001b[0;34m\u001b[0m\u001b[0m\n\u001b[1;32m    681\u001b[0m     \u001b[0;32mdef\u001b[0m \u001b[0mis_consolidated\u001b[0m\u001b[0;34m(\u001b[0m\u001b[0mself\u001b[0m\u001b[0;34m)\u001b[0m \u001b[0;34m->\u001b[0m \u001b[0mbool\u001b[0m\u001b[0;34m:\u001b[0m\u001b[0;34m\u001b[0m\u001b[0;34m\u001b[0m\u001b[0m\n",
      "\u001b[0;32m~/opt/anaconda3/lib/python3.8/site-packages/pandas/core/internals/managers.py\u001b[0m in \u001b[0;36mapply\u001b[0;34m(self, f, align_keys, ignore_failures, **kwargs)\u001b[0m\n\u001b[1;32m    425\u001b[0m                     \u001b[0mapplied\u001b[0m \u001b[0;34m=\u001b[0m \u001b[0mb\u001b[0m\u001b[0;34m.\u001b[0m\u001b[0mapply\u001b[0m\u001b[0;34m(\u001b[0m\u001b[0mf\u001b[0m\u001b[0;34m,\u001b[0m \u001b[0;34m**\u001b[0m\u001b[0mkwargs\u001b[0m\u001b[0;34m)\u001b[0m\u001b[0;34m\u001b[0m\u001b[0;34m\u001b[0m\u001b[0m\n\u001b[1;32m    426\u001b[0m                 \u001b[0;32melse\u001b[0m\u001b[0;34m:\u001b[0m\u001b[0;34m\u001b[0m\u001b[0;34m\u001b[0m\u001b[0m\n\u001b[0;32m--> 427\u001b[0;31m                     \u001b[0mapplied\u001b[0m \u001b[0;34m=\u001b[0m \u001b[0mgetattr\u001b[0m\u001b[0;34m(\u001b[0m\u001b[0mb\u001b[0m\u001b[0;34m,\u001b[0m \u001b[0mf\u001b[0m\u001b[0;34m)\u001b[0m\u001b[0;34m(\u001b[0m\u001b[0;34m**\u001b[0m\u001b[0mkwargs\u001b[0m\u001b[0;34m)\u001b[0m\u001b[0;34m\u001b[0m\u001b[0;34m\u001b[0m\u001b[0m\n\u001b[0m\u001b[1;32m    428\u001b[0m             \u001b[0;32mexcept\u001b[0m \u001b[0;34m(\u001b[0m\u001b[0mTypeError\u001b[0m\u001b[0;34m,\u001b[0m \u001b[0mNotImplementedError\u001b[0m\u001b[0;34m)\u001b[0m\u001b[0;34m:\u001b[0m\u001b[0;34m\u001b[0m\u001b[0;34m\u001b[0m\u001b[0m\n\u001b[1;32m    429\u001b[0m                 \u001b[0;32mif\u001b[0m \u001b[0;32mnot\u001b[0m \u001b[0mignore_failures\u001b[0m\u001b[0;34m:\u001b[0m\u001b[0;34m\u001b[0m\u001b[0;34m\u001b[0m\u001b[0m\n",
      "\u001b[0;32m~/opt/anaconda3/lib/python3.8/site-packages/pandas/core/internals/blocks.py\u001b[0m in \u001b[0;36mto_native_types\u001b[0;34m(self, na_rep, float_format, decimal, quoting, **kwargs)\u001b[0m\n\u001b[1;32m   2104\u001b[0m \u001b[0;34m\u001b[0m\u001b[0m\n\u001b[1;32m   2105\u001b[0m             \u001b[0;32mif\u001b[0m \u001b[0;32mnot\u001b[0m \u001b[0mquoting\u001b[0m\u001b[0;34m:\u001b[0m\u001b[0;34m\u001b[0m\u001b[0;34m\u001b[0m\u001b[0m\n\u001b[0;32m-> 2106\u001b[0;31m                 \u001b[0mvalues\u001b[0m \u001b[0;34m=\u001b[0m \u001b[0mvalues\u001b[0m\u001b[0;34m.\u001b[0m\u001b[0mastype\u001b[0m\u001b[0;34m(\u001b[0m\u001b[0mstr\u001b[0m\u001b[0;34m)\u001b[0m\u001b[0;34m\u001b[0m\u001b[0;34m\u001b[0m\u001b[0m\n\u001b[0m\u001b[1;32m   2107\u001b[0m             \u001b[0;32melse\u001b[0m\u001b[0;34m:\u001b[0m\u001b[0;34m\u001b[0m\u001b[0;34m\u001b[0m\u001b[0m\n\u001b[1;32m   2108\u001b[0m                 \u001b[0mvalues\u001b[0m \u001b[0;34m=\u001b[0m \u001b[0mnp\u001b[0m\u001b[0;34m.\u001b[0m\u001b[0marray\u001b[0m\u001b[0;34m(\u001b[0m\u001b[0mvalues\u001b[0m\u001b[0;34m,\u001b[0m \u001b[0mdtype\u001b[0m\u001b[0;34m=\u001b[0m\u001b[0;34m\"object\"\u001b[0m\u001b[0;34m)\u001b[0m\u001b[0;34m\u001b[0m\u001b[0;34m\u001b[0m\u001b[0m\n",
      "\u001b[0;31mKeyboardInterrupt\u001b[0m: "
     ]
    }
   ],
   "source": [
    "df_out.to_csv(\"Testing1.csv\")"
   ]
  },
  {
   "cell_type": "code",
   "execution_count": null,
   "id": "13ca6697",
   "metadata": {
    "ExecuteTime": {
     "start_time": "2021-12-04T22:25:53.635Z"
    }
   },
   "outputs": [
    {
     "name": "stdout",
     "output_type": "stream",
     "text": [
      "0\n"
     ]
    }
   ],
   "source": [
    "ctr=0\n",
    "for i in range(16):\n",
    "    print(\"*************\",i)\n",
    "    tacs_matrix=np.roll(tacs_matrix,1,axis=0)\n",
    "    res=np.add(background_f,tacs_matrix)\n",
    "    d={\"Audio time list\":res}\n",
    "    df=pd.DataFrame(data=d)\n",
    "    printt(\"df created\")\n",
    "    ctr+=1\n",
    "    df.to_csv(\"Dataset Sound Detection_\"+str(ctr)+\".csv\")\n",
    "    printt(\"file saved\")\n",
    "\n",
    "\n"
   ]
  },
  {
   "cell_type": "code",
   "execution_count": 21,
   "id": "45269225",
   "metadata": {},
   "outputs": [],
   "source": [
    "def unison_shuffled_copies(a, b):\n",
    "    assert len(a) == len(b)\n",
    "    p = np.random.permutation(len(a))\n",
    "    return a[p], b[p]\n"
   ]
  }
 ],
 "metadata": {
  "kernelspec": {
   "display_name": "Python 3",
   "language": "python",
   "name": "python3"
  },
  "language_info": {
   "codemirror_mode": {
    "name": "ipython",
    "version": 3
   },
   "file_extension": ".py",
   "mimetype": "text/x-python",
   "name": "python",
   "nbconvert_exporter": "python",
   "pygments_lexer": "ipython3",
   "version": "3.8.8"
  },
  "toc": {
   "base_numbering": 1,
   "nav_menu": {},
   "number_sections": true,
   "sideBar": true,
   "skip_h1_title": false,
   "title_cell": "Table of Contents",
   "title_sidebar": "Contents",
   "toc_cell": false,
   "toc_position": {},
   "toc_section_display": true,
   "toc_window_display": false
  }
 },
 "nbformat": 4,
 "nbformat_minor": 5
}
