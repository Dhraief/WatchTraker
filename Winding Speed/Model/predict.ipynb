{
 "cells": [
  {
   "cell_type": "code",
   "execution_count": 7,
   "id": "d751431a",
   "metadata": {},
   "outputs": [
    {
     "name": "stdout",
     "output_type": "stream",
     "text": [
      "Loaded the model from disk\n"
     ]
    }
   ],
   "source": [
    "from keras.models import model_from_json\n",
    "import torch\n",
    "import torchaudio\n",
    "import numpy as np\n",
    "import matplotlib.pyplot as plt\n",
    "import librosa\n",
    "import librosa.display\n",
    "import cv2\n",
    "\n",
    "# load json and create model\n",
    "json_file = open('model.json', 'r')\n",
    "loaded_model_json = json_file.read()\n",
    "json_file.close()\n",
    "model = model_from_json(loaded_model_json)\n",
    "# load weights into new model\n",
    "model.load_weights(\"model.h5\")\n",
    "print(\"Loaded the model from disk\")\n",
    "\n",
    "\n",
    "class Voice_Predict:\n",
    "    def __init__(self,model):\n",
    "        self.model=model\n",
    "    '''This function is used to save spectrogram as images'''\n",
    "    def create_spectrogram(self,name,array):\n",
    "        plt.interactive(False)\n",
    "        fig = plt.figure(figsize=[0.72,0.72])\n",
    "        ax = fig.add_subplot(111)\n",
    "        ax.axes.get_xaxis().set_visible(False)\n",
    "        ax.axes.get_yaxis().set_visible(False)\n",
    "        ax.set_frame_on(False)\n",
    "        S = self.Spectrogram_gen(array) #generate the spectrogram\n",
    "        librosa.display.specshow(librosa.power_to_db(S, ref=np.max)) #display spectrogram as a image\n",
    "        filename  = name + '.jpg'\n",
    "        plt.savefig(filename, dpi=400, bbox_inches='tight',pad_inches=0) #save spectrogram as a image\n",
    "        plt.close()    \n",
    "        fig.clf()\n",
    "        plt.close(fig)\n",
    "        plt.close('all')\n",
    "        del name,fig,ax,S\n",
    "\n",
    "    '''This function is used to generate spectrogrames\n",
    "    '''\n",
    "    def Spectrogram_gen(self,array):\n",
    "        waveform = torch.tensor(array, dtype = torch.float)\n",
    "        waveform = torch.reshape(waveform, (-1,waveform.shape[0]))\n",
    "        Spectrogram = torchaudio.transforms.MelSpectrogram()(waveform)[0]\n",
    "        return (Spectrogram)\n",
    "    def data_prepare(self,array):\n",
    "        self.create_spectrogram('predict',array)\n",
    "        in_img=cv2.resize(cv2.imread('predict.jpg'),(64,64))\n",
    "        in_img=in_img.astype('float32') / 255\n",
    "        in_img=np.array([in_img])\n",
    "        return(in_img)\n",
    "\n",
    "    def predict(self,array):\n",
    "        in_img=self.data_prepare(array)\n",
    "        pred=self.model.predict(in_img)\n",
    "        predicted_class_indices=np.argmax(pred,axis=1)\n",
    "        return(predicted_class_indices[0])"
   ]
  },
  {
   "cell_type": "code",
   "execution_count": 8,
   "id": "f1d47d72",
   "metadata": {},
   "outputs": [],
   "source": [
    "vp=Voice_Predict(model)"
   ]
  },
  {
   "cell_type": "code",
   "execution_count": 3,
   "id": "9dd7bfdd",
   "metadata": {},
   "outputs": [],
   "source": [
    "import pandas as pd\n",
    "df_0=pd.read_csv('data sets/Dataset Sound Detection label 0.csv')\n",
    "df_1=pd.read_csv('data sets/Dataset Sound Detection label 1.csv')"
   ]
  },
  {
   "cell_type": "code",
   "execution_count": 9,
   "id": "b16e769d",
   "metadata": {},
   "outputs": [
    {
     "data": {
      "text/plain": [
       "0"
      ]
     },
     "execution_count": 9,
     "metadata": {},
     "output_type": "execute_result"
    }
   ],
   "source": [
    "vp.predict(np.array(df_0.iloc[10])[1:-1])"
   ]
  },
  {
   "cell_type": "code",
   "execution_count": null,
   "id": "2c47e66e",
   "metadata": {},
   "outputs": [],
   "source": []
  },
  {
   "cell_type": "code",
   "execution_count": null,
   "id": "4e614588",
   "metadata": {},
   "outputs": [],
   "source": []
  }
 ],
 "metadata": {
  "kernelspec": {
   "display_name": "Python 3",
   "language": "python",
   "name": "python3"
  },
  "language_info": {
   "codemirror_mode": {
    "name": "ipython",
    "version": 3
   },
   "file_extension": ".py",
   "mimetype": "text/x-python",
   "name": "python",
   "nbconvert_exporter": "python",
   "pygments_lexer": "ipython3",
   "version": "3.8.8"
  },
  "toc": {
   "base_numbering": 1,
   "nav_menu": {},
   "number_sections": true,
   "sideBar": true,
   "skip_h1_title": false,
   "title_cell": "Table of Contents",
   "title_sidebar": "Contents",
   "toc_cell": false,
   "toc_position": {},
   "toc_section_display": true,
   "toc_window_display": false
  }
 },
 "nbformat": 4,
 "nbformat_minor": 5
}
