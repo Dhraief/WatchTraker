{
 "cells": [
  {
   "cell_type": "markdown",
   "id": "4d6ed7c5",
   "metadata": {},
   "source": [
    "# Import Libraries"
   ]
  },
  {
   "cell_type": "code",
   "execution_count": 1,
   "id": "2c342087",
   "metadata": {},
   "outputs": [],
   "source": [
    "import pandas as pd\n",
    "import numpy as np\n",
    "import matplotlib.pyplot as plt\n",
    "from sklearn.model_selection import train_test_split\n",
    "import collections\n",
    "import librosa\n",
    "import torchaudio\n",
    "import torch\n",
    "import librosa.display\n",
    "from keras_preprocessing.image import ImageDataGenerator\n",
    "import cv2\n",
    "from tensorflow.keras.utils import to_categorical\n",
    "from sklearn.metrics import accuracy_score\n",
    "from keras.layers import Dense, Activation, Flatten, Dropout, BatchNormalization\n",
    "from keras.models import Sequential, Model\n",
    "from keras.layers import Conv2D, MaxPooling2D\n",
    "from tensorflow.keras import optimizers\n",
    "import pandas as pd\n",
    "import numpy as np\n",
    "from sklearn.metrics import confusion_matrix\n",
    "import seaborn as sns"
   ]
  },
  {
   "cell_type": "markdown",
   "id": "03621d7c",
   "metadata": {},
   "source": [
    "# Data Preparation"
   ]
  },
  {
   "cell_type": "markdown",
   "id": "66becc97",
   "metadata": {},
   "source": [
    "### Load data"
   ]
  },
  {
   "cell_type": "code",
   "execution_count": 2,
   "id": "d3126e22",
   "metadata": {},
   "outputs": [],
   "source": [
    "df_0=pd.read_csv('data sets/Dataset Sound Detection label 0.csv')\n",
    "df_1=pd.read_csv('data sets/Dataset Sound Detection label 1.csv')"
   ]
  },
  {
   "cell_type": "markdown",
   "id": "afc245a7",
   "metadata": {},
   "source": [
    "### Preprocess data"
   ]
  },
  {
   "cell_type": "code",
   "execution_count": 3,
   "id": "4b9d5443",
   "metadata": {},
   "outputs": [],
   "source": [
    "df_1=df_1.drop(columns=['Unnamed: 0'])\n",
    "df_0=df_0.drop(columns=['Unnamed: 0'])"
   ]
  },
  {
   "cell_type": "code",
   "execution_count": 4,
   "id": "70e0cbf7",
   "metadata": {},
   "outputs": [],
   "source": [
    "X_0=df_0.copy()\n",
    "X_0=X_0.drop(columns=['label'])\n",
    "y_0=df_0['label']\n",
    "X_1=df_1.copy()\n",
    "X_1=X_1.drop(columns=['label'])\n",
    "y_1=df_1['label']"
   ]
  },
  {
   "cell_type": "code",
   "execution_count": 5,
   "id": "2337b4df",
   "metadata": {},
   "outputs": [],
   "source": [
    "X=np.vstack((np.array(X_1),np.array(X_0))) #combine data"
   ]
  },
  {
   "cell_type": "code",
   "execution_count": 6,
   "id": "6722f064",
   "metadata": {},
   "outputs": [],
   "source": [
    "'''This function is used to add random Gaussian noise to audio data\n",
    "'''\n",
    "def add_noise(X):\n",
    "    for i in range(len(X)):\n",
    "        noise=np.random.normal(0, 0.03, X.shape[1])\n",
    "        X[i]+=noise\n",
    "    return(X)"
   ]
  },
  {
   "cell_type": "code",
   "execution_count": 7,
   "id": "5bba34a9",
   "metadata": {},
   "outputs": [],
   "source": [
    "y=np.hstack((np.array(y_1),np.array(y_0)))"
   ]
  },
  {
   "cell_type": "code",
   "execution_count": 8,
   "id": "637fd4e2",
   "metadata": {},
   "outputs": [],
   "source": [
    "X=add_noise(X)"
   ]
  },
  {
   "cell_type": "code",
   "execution_count": 9,
   "id": "686a9cf1",
   "metadata": {},
   "outputs": [],
   "source": [
    "X_train, X_test, y_train, y_test = train_test_split(X, y, test_size=0.25, random_state=42)"
   ]
  },
  {
   "cell_type": "code",
   "execution_count": 10,
   "id": "8e2d6d82",
   "metadata": {},
   "outputs": [
    {
     "data": {
      "text/plain": [
       "((3750, 22050), (1250, 22050))"
      ]
     },
     "execution_count": 10,
     "metadata": {},
     "output_type": "execute_result"
    }
   ],
   "source": [
    "X_train.shape,X_test.shape"
   ]
  },
  {
   "cell_type": "code",
   "execution_count": 11,
   "id": "2972dfec",
   "metadata": {},
   "outputs": [
    {
     "name": "stdout",
     "output_type": "stream",
     "text": [
      "Counter({0: 1876, 1: 1874})\n",
      "Counter({1: 626, 0: 624})\n"
     ]
    }
   ],
   "source": [
    "print(collections.Counter(y_train))\n",
    "print(collections.Counter(y_test))"
   ]
  },
  {
   "cell_type": "markdown",
   "id": "4e79b4cc",
   "metadata": {},
   "source": [
    "### Create spectrogram images"
   ]
  },
  {
   "cell_type": "code",
   "execution_count": 12,
   "id": "2dc2f882",
   "metadata": {},
   "outputs": [],
   "source": [
    "'''This function is used to save spectrogram as images\n",
    "'''\n",
    "def create_spectrogram(name,array):\n",
    "    plt.interactive(False)\n",
    "    fig = plt.figure(figsize=[0.72,0.72])\n",
    "    ax = fig.add_subplot(111)\n",
    "    ax.axes.get_xaxis().set_visible(False)\n",
    "    ax.axes.get_yaxis().set_visible(False)\n",
    "    ax.set_frame_on(False)\n",
    "    S = Spectrogram_gen(array) #generate the spectrogram\n",
    "    librosa.display.specshow(librosa.power_to_db(S, ref=np.max)) #display spectrogram as a image\n",
    "    filename  = name + '.jpg'\n",
    "    plt.savefig(filename, dpi=400, bbox_inches='tight',pad_inches=0) #save spectrogram as a image\n",
    "    plt.close()    \n",
    "    fig.clf()\n",
    "    plt.close(fig)\n",
    "    plt.close('all')\n",
    "    del name,fig,ax,S"
   ]
  },
  {
   "cell_type": "code",
   "execution_count": 13,
   "id": "d88cb744",
   "metadata": {},
   "outputs": [],
   "source": [
    "'''This function is used to generate spectrogrames\n",
    "'''\n",
    "def Spectrogram_gen(array):\n",
    "    waveform = torch.tensor(array, dtype = torch.float)\n",
    "    waveform = torch.reshape(waveform, (-1,waveform.shape[0]))\n",
    "    Spectrogram = torchaudio.transforms.MelSpectrogram()(waveform)[0]\n",
    "    return (Spectrogram)"
   ]
  },
  {
   "cell_type": "code",
   "execution_count": 14,
   "id": "5d414cad",
   "metadata": {},
   "outputs": [
    {
     "name": "stderr",
     "output_type": "stream",
     "text": [
      "C:\\Users\\chanakaj\\Anaconda3\\lib\\site-packages\\torchaudio\\functional\\functional.py:594: UserWarning: At least one mel filterbank has all zero values. The value for `n_mels` (128) may be set too high. Or, the value for `n_freqs` (201) may be set too low.\n",
      "  warnings.warn(\n"
     ]
    }
   ],
   "source": [
    "#save train spectrogram images in train directory\n",
    "for i in range(len(X_train)):\n",
    "    create_spectrogram('train/'+str(i),X_train[i])"
   ]
  },
  {
   "cell_type": "code",
   "execution_count": 15,
   "id": "3f6c6ab5",
   "metadata": {},
   "outputs": [],
   "source": [
    "#save test spectrogram images in test directory\n",
    "for i in range(len(X_test)):\n",
    "    create_spectrogram('test/'+str(i),X_test[i])"
   ]
  },
  {
   "cell_type": "markdown",
   "id": "8e3a8ee7",
   "metadata": {},
   "source": [
    "### Load train and test images"
   ]
  },
  {
   "cell_type": "code",
   "execution_count": 16,
   "id": "c6a1a44d",
   "metadata": {},
   "outputs": [],
   "source": [
    "train_images=[]\n",
    "for i in range(len(y_train)):\n",
    "        train_images.append(cv2.resize(cv2.imread('train/'+str(i)+'.jpg'),(64,64)))\n",
    "train_images=np.array(train_images)\n",
    "train_images = train_images.astype('float32') / 255\n",
    "train_labels = to_categorical(np.array(y_train))\n",
    "\n",
    "test_images=[]\n",
    "for i in range(len(y_test)):\n",
    "        test_images.append(cv2.resize(cv2.imread('test/'+str(i)+'.jpg'),(64,64)))\n",
    "test_images=np.array(test_images)\n",
    "test_images = test_images.astype('float32') / 255\n",
    "test_labels = to_categorical(np.array(y_test))"
   ]
  },
  {
   "cell_type": "code",
   "execution_count": 17,
   "id": "18377fe3",
   "metadata": {},
   "outputs": [],
   "source": [
    "#devide train test into train and validation sets\n",
    "train_images,val_images, train_labels,val_labels = train_test_split(train_images, train_labels, test_size=0.25, random_state=42)"
   ]
  },
  {
   "cell_type": "markdown",
   "id": "78c5e965",
   "metadata": {},
   "source": [
    "# Modeling"
   ]
  },
  {
   "cell_type": "code",
   "execution_count": 27,
   "id": "3fb6ead1",
   "metadata": {},
   "outputs": [
    {
     "name": "stdout",
     "output_type": "stream",
     "text": [
      "Model: \"sequential_1\"\n",
      "_________________________________________________________________\n",
      "Layer (type)                 Output Shape              Param #   \n",
      "=================================================================\n",
      "conv2d_6 (Conv2D)            (None, 64, 64, 32)        896       \n",
      "_________________________________________________________________\n",
      "activation_7 (Activation)    (None, 64, 64, 32)        0         \n",
      "_________________________________________________________________\n",
      "conv2d_7 (Conv2D)            (None, 62, 62, 64)        18496     \n",
      "_________________________________________________________________\n",
      "activation_8 (Activation)    (None, 62, 62, 64)        0         \n",
      "_________________________________________________________________\n",
      "max_pooling2d_3 (MaxPooling2 (None, 31, 31, 64)        0         \n",
      "_________________________________________________________________\n",
      "dropout_4 (Dropout)          (None, 31, 31, 64)        0         \n",
      "_________________________________________________________________\n",
      "conv2d_8 (Conv2D)            (None, 31, 31, 64)        36928     \n",
      "_________________________________________________________________\n",
      "activation_9 (Activation)    (None, 31, 31, 64)        0         \n",
      "_________________________________________________________________\n",
      "conv2d_9 (Conv2D)            (None, 29, 29, 64)        36928     \n",
      "_________________________________________________________________\n",
      "activation_10 (Activation)   (None, 29, 29, 64)        0         \n",
      "_________________________________________________________________\n",
      "max_pooling2d_4 (MaxPooling2 (None, 14, 14, 64)        0         \n",
      "_________________________________________________________________\n",
      "dropout_5 (Dropout)          (None, 14, 14, 64)        0         \n",
      "_________________________________________________________________\n",
      "conv2d_10 (Conv2D)           (None, 14, 14, 128)       73856     \n",
      "_________________________________________________________________\n",
      "activation_11 (Activation)   (None, 14, 14, 128)       0         \n",
      "_________________________________________________________________\n",
      "conv2d_11 (Conv2D)           (None, 12, 12, 128)       147584    \n",
      "_________________________________________________________________\n",
      "activation_12 (Activation)   (None, 12, 12, 128)       0         \n",
      "_________________________________________________________________\n",
      "max_pooling2d_5 (MaxPooling2 (None, 6, 6, 128)         0         \n",
      "_________________________________________________________________\n",
      "dropout_6 (Dropout)          (None, 6, 6, 128)         0         \n",
      "_________________________________________________________________\n",
      "flatten_1 (Flatten)          (None, 4608)              0         \n",
      "_________________________________________________________________\n",
      "dense_2 (Dense)              (None, 512)               2359808   \n",
      "_________________________________________________________________\n",
      "activation_13 (Activation)   (None, 512)               0         \n",
      "_________________________________________________________________\n",
      "dropout_7 (Dropout)          (None, 512)               0         \n",
      "_________________________________________________________________\n",
      "dense_3 (Dense)              (None, 2)                 1026      \n",
      "=================================================================\n",
      "Total params: 2,675,522\n",
      "Trainable params: 2,675,522\n",
      "Non-trainable params: 0\n",
      "_________________________________________________________________\n"
     ]
    },
    {
     "name": "stderr",
     "output_type": "stream",
     "text": [
      "C:\\Users\\chanakaj\\AppData\\Roaming\\Python\\Python38\\site-packages\\keras\\optimizer_v2\\optimizer_v2.py:355: UserWarning: The `lr` argument is deprecated, use `learning_rate` instead.\n",
      "  warnings.warn(\n"
     ]
    }
   ],
   "source": [
    "model = Sequential()\n",
    "model.add(Conv2D(32, (3, 3), padding='same',\n",
    "                 input_shape=(64,64,3)))\n",
    "model.add(Activation('relu'))\n",
    "model.add(Conv2D(64, (3, 3)))\n",
    "model.add(Activation('relu'))\n",
    "model.add(MaxPooling2D(pool_size=(2, 2)))\n",
    "model.add(Dropout(0.25))\n",
    "model.add(Conv2D(64, (3, 3), padding='same'))\n",
    "model.add(Activation('relu'))\n",
    "model.add(Conv2D(64, (3, 3)))\n",
    "model.add(Activation('relu'))\n",
    "model.add(MaxPooling2D(pool_size=(2, 2)))\n",
    "model.add(Dropout(0.5))\n",
    "model.add(Conv2D(128, (3, 3), padding='same'))\n",
    "model.add(Activation('relu'))\n",
    "model.add(Conv2D(128, (3, 3)))\n",
    "model.add(Activation('relu'))\n",
    "model.add(MaxPooling2D(pool_size=(2, 2)))\n",
    "model.add(Dropout(0.5))\n",
    "model.add(Flatten())\n",
    "model.add(Dense(512))\n",
    "model.add(Activation('relu'))\n",
    "model.add(Dropout(0.5))\n",
    "model.add(Dense(2, activation='softmax'))\n",
    "model.compile(optimizers.RMSprop(lr=0.0005, decay=1e-6),loss=\"categorical_crossentropy\",metrics=[\"accuracy\"])\n",
    "model.summary()"
   ]
  },
  {
   "cell_type": "code",
   "execution_count": 28,
   "id": "a186f82b",
   "metadata": {},
   "outputs": [
    {
     "name": "stdout",
     "output_type": "stream",
     "text": [
      "Epoch 1/150\n",
      "44/44 [==============================] - 74s 2s/step - loss: 0.7041 - accuracy: 0.5025 - val_loss: 0.6927 - val_accuracy: 0.5171\n",
      "Epoch 2/150\n",
      "44/44 [==============================] - 44s 1s/step - loss: 0.6991 - accuracy: 0.5021 - val_loss: 0.6932 - val_accuracy: 0.4829\n",
      "Epoch 3/150\n",
      "44/44 [==============================] - 57s 1s/step - loss: 0.6939 - accuracy: 0.5181 - val_loss: 0.6898 - val_accuracy: 0.6311\n",
      "Epoch 4/150\n",
      "44/44 [==============================] - 153s 4s/step - loss: 0.6922 - accuracy: 0.5487 - val_loss: 0.7034 - val_accuracy: 0.4872\n",
      "Epoch 5/150\n",
      "44/44 [==============================] - 55s 1s/step - loss: 0.6921 - accuracy: 0.5573 - val_loss: 0.6731 - val_accuracy: 0.6034\n",
      "Epoch 6/150\n",
      "44/44 [==============================] - 48s 1s/step - loss: 0.6844 - accuracy: 0.5679 - val_loss: 0.6891 - val_accuracy: 0.4936\n",
      "Epoch 7/150\n",
      "44/44 [==============================] - 53s 1s/step - loss: 0.6813 - accuracy: 0.5811 - val_loss: 0.6653 - val_accuracy: 0.6055\n",
      "Epoch 8/150\n",
      "44/44 [==============================] - 130s 3s/step - loss: 0.6787 - accuracy: 0.5868 - val_loss: 0.6789 - val_accuracy: 0.5192\n",
      "Epoch 9/150\n",
      "44/44 [==============================] - 63s 1s/step - loss: 0.6892 - accuracy: 0.5434 - val_loss: 0.6928 - val_accuracy: 0.5171\n",
      "Epoch 10/150\n",
      "44/44 [==============================] - 56s 1s/step - loss: 0.6840 - accuracy: 0.5587 - val_loss: 0.6864 - val_accuracy: 0.5203\n",
      "Epoch 11/150\n",
      "44/44 [==============================] - 107s 2s/step - loss: 0.6917 - accuracy: 0.5135 - val_loss: 0.6742 - val_accuracy: 0.5810\n",
      "Epoch 12/150\n",
      "44/44 [==============================] - 100s 2s/step - loss: 0.7010 - accuracy: 0.5708 - val_loss: 0.6673 - val_accuracy: 0.6407\n",
      "Epoch 13/150\n",
      "44/44 [==============================] - 48s 1s/step - loss: 0.6714 - accuracy: 0.6277 - val_loss: 0.7078 - val_accuracy: 0.5000\n",
      "Epoch 14/150\n",
      "44/44 [==============================] - 56s 1s/step - loss: 0.6772 - accuracy: 0.5935 - val_loss: 0.6698 - val_accuracy: 0.5267\n",
      "Epoch 15/150\n",
      "44/44 [==============================] - 128s 3s/step - loss: 0.6771 - accuracy: 0.5946 - val_loss: 0.8230 - val_accuracy: 0.4904\n",
      "Epoch 16/150\n",
      "44/44 [==============================] - 61s 1s/step - loss: 0.6612 - accuracy: 0.6248 - val_loss: 0.6604 - val_accuracy: 0.5480\n",
      "Epoch 17/150\n",
      "44/44 [==============================] - 71s 2s/step - loss: 0.6598 - accuracy: 0.6337 - val_loss: 0.6143 - val_accuracy: 0.7058\n",
      "Epoch 18/150\n",
      "44/44 [==============================] - 165s 4s/step - loss: 0.6466 - accuracy: 0.6341 - val_loss: 0.6694 - val_accuracy: 0.5586\n",
      "Epoch 19/150\n",
      "44/44 [==============================] - 71s 2s/step - loss: 0.6506 - accuracy: 0.6181 - val_loss: 0.6380 - val_accuracy: 0.6503\n",
      "Epoch 20/150\n",
      "44/44 [==============================] - 117s 3s/step - loss: 0.6580 - accuracy: 0.6117 - val_loss: 0.6232 - val_accuracy: 0.7079\n",
      "Epoch 21/150\n",
      "44/44 [==============================] - 67s 1s/step - loss: 0.6458 - accuracy: 0.6326 - val_loss: 0.6218 - val_accuracy: 0.6557\n",
      "Epoch 22/150\n",
      "44/44 [==============================] - 54s 1s/step - loss: 0.6611 - accuracy: 0.6177 - val_loss: 0.6746 - val_accuracy: 0.5597\n",
      "Epoch 23/150\n",
      "44/44 [==============================] - 120s 3s/step - loss: 0.6473 - accuracy: 0.6188 - val_loss: 0.6477 - val_accuracy: 0.6205\n",
      "Epoch 24/150\n",
      "44/44 [==============================] - 133s 3s/step - loss: 0.6487 - accuracy: 0.6348 - val_loss: 0.6266 - val_accuracy: 0.6844\n",
      "Epoch 25/150\n",
      "44/44 [==============================] - 128s 3s/step - loss: 0.6380 - accuracy: 0.6419 - val_loss: 0.5956 - val_accuracy: 0.7079\n",
      "Epoch 26/150\n",
      "44/44 [==============================] - 67s 2s/step - loss: 0.6385 - accuracy: 0.6355 - val_loss: 0.6069 - val_accuracy: 0.6567\n",
      "Epoch 27/150\n",
      "44/44 [==============================] - 127s 3s/step - loss: 0.6503 - accuracy: 0.6380 - val_loss: 0.6491 - val_accuracy: 0.5618\n",
      "Epoch 28/150\n",
      "44/44 [==============================] - 83s 2s/step - loss: 0.6349 - accuracy: 0.6465 - val_loss: 0.6013 - val_accuracy: 0.6642\n",
      "Epoch 29/150\n",
      "44/44 [==============================] - 84s 2s/step - loss: 0.6368 - accuracy: 0.6362 - val_loss: 0.6037 - val_accuracy: 0.7154\n",
      "Epoch 30/150\n",
      "44/44 [==============================] - 48s 1s/step - loss: 0.6228 - accuracy: 0.6533 - val_loss: 0.5854 - val_accuracy: 0.7090\n",
      "Epoch 31/150\n",
      "44/44 [==============================] - 92s 2s/step - loss: 0.6338 - accuracy: 0.6476 - val_loss: 0.5964 - val_accuracy: 0.7079\n",
      "Epoch 32/150\n",
      "44/44 [==============================] - 91s 2s/step - loss: 0.6351 - accuracy: 0.6362 - val_loss: 0.6106 - val_accuracy: 0.6919\n",
      "Epoch 33/150\n",
      "44/44 [==============================] - 69s 2s/step - loss: 0.6338 - accuracy: 0.6369 - val_loss: 0.5954 - val_accuracy: 0.6940\n",
      "Epoch 34/150\n",
      "44/44 [==============================] - 109s 3s/step - loss: 0.6196 - accuracy: 0.6636 - val_loss: 0.5898 - val_accuracy: 0.7015\n",
      "Epoch 35/150\n",
      "44/44 [==============================] - 127s 3s/step - loss: 0.6328 - accuracy: 0.6376 - val_loss: 0.6383 - val_accuracy: 0.6780\n",
      "Epoch 36/150\n",
      "44/44 [==============================] - 58s 1s/step - loss: 0.6256 - accuracy: 0.6479 - val_loss: 0.7130 - val_accuracy: 0.5640\n",
      "Epoch 37/150\n",
      "44/44 [==============================] - 79s 2s/step - loss: 0.6260 - accuracy: 0.6511 - val_loss: 0.6032 - val_accuracy: 0.6514\n",
      "Epoch 38/150\n",
      "44/44 [==============================] - 167s 4s/step - loss: 0.6313 - accuracy: 0.6483 - val_loss: 0.6546 - val_accuracy: 0.5501\n",
      "Epoch 39/150\n",
      "44/44 [==============================] - 87s 2s/step - loss: 0.6163 - accuracy: 0.6721 - val_loss: 0.7356 - val_accuracy: 0.5416\n",
      "Epoch 40/150\n",
      "44/44 [==============================] - 58s 1s/step - loss: 0.5931 - accuracy: 0.6867 - val_loss: 0.7736 - val_accuracy: 0.5394\n",
      "Epoch 41/150\n",
      "44/44 [==============================] - 132s 3s/step - loss: 0.6005 - accuracy: 0.6767 - val_loss: 0.7023 - val_accuracy: 0.5704\n",
      "Epoch 42/150\n",
      "44/44 [==============================] - 114s 3s/step - loss: 0.6025 - accuracy: 0.6785 - val_loss: 0.8218 - val_accuracy: 0.5938\n",
      "Epoch 43/150\n",
      "44/44 [==============================] - 56s 1s/step - loss: 0.5945 - accuracy: 0.6839 - val_loss: 0.5836 - val_accuracy: 0.7399\n",
      "Epoch 44/150\n",
      "44/44 [==============================] - 131s 3s/step - loss: 0.5977 - accuracy: 0.6895 - val_loss: 0.5478 - val_accuracy: 0.7420\n",
      "Epoch 45/150\n",
      "44/44 [==============================] - 106s 2s/step - loss: 0.6022 - accuracy: 0.6696 - val_loss: 0.5924 - val_accuracy: 0.6770\n",
      "Epoch 46/150\n",
      "44/44 [==============================] - 104s 2s/step - loss: 0.5964 - accuracy: 0.6803 - val_loss: 0.6248 - val_accuracy: 0.6045\n",
      "Epoch 47/150\n",
      "44/44 [==============================] - 105s 2s/step - loss: 0.5779 - accuracy: 0.7034 - val_loss: 0.5545 - val_accuracy: 0.7143\n",
      "Epoch 48/150\n",
      "44/44 [==============================] - 173s 4s/step - loss: 0.5767 - accuracy: 0.6942 - val_loss: 0.6056 - val_accuracy: 0.6652\n",
      "Epoch 49/150\n",
      "44/44 [==============================] - 103s 2s/step - loss: 0.5915 - accuracy: 0.6828 - val_loss: 0.5648 - val_accuracy: 0.7111\n",
      "Epoch 50/150\n",
      "44/44 [==============================] - 71s 2s/step - loss: 0.5799 - accuracy: 0.6949 - val_loss: 0.6089 - val_accuracy: 0.6642\n",
      "Epoch 51/150\n",
      "44/44 [==============================] - 179s 4s/step - loss: 0.5853 - accuracy: 0.7002 - val_loss: 0.6340 - val_accuracy: 0.6290\n",
      "Epoch 52/150\n",
      "44/44 [==============================] - 80s 2s/step - loss: 0.5788 - accuracy: 0.7063 - val_loss: 0.5909 - val_accuracy: 0.6748\n",
      "Epoch 53/150\n",
      "44/44 [==============================] - 107s 2s/step - loss: 0.5714 - accuracy: 0.6995 - val_loss: 0.5391 - val_accuracy: 0.7388\n",
      "Epoch 54/150\n",
      "44/44 [==============================] - 92s 2s/step - loss: 0.5651 - accuracy: 0.7020 - val_loss: 0.5807 - val_accuracy: 0.7004\n",
      "Epoch 55/150\n",
      "44/44 [==============================] - 47s 1s/step - loss: 0.5596 - accuracy: 0.7155 - val_loss: 0.5589 - val_accuracy: 0.7207\n",
      "Epoch 56/150\n",
      "44/44 [==============================] - 126s 3s/step - loss: 0.5608 - accuracy: 0.7112 - val_loss: 0.6245 - val_accuracy: 0.6652\n",
      "Epoch 57/150\n",
      "44/44 [==============================] - 111s 2s/step - loss: 0.5684 - accuracy: 0.6938 - val_loss: 0.5385 - val_accuracy: 0.7409\n",
      "Epoch 58/150\n",
      "44/44 [==============================] - 57s 1s/step - loss: 0.5517 - accuracy: 0.7233 - val_loss: 0.5471 - val_accuracy: 0.7303\n",
      "Epoch 59/150\n",
      "44/44 [==============================] - 72s 2s/step - loss: 0.5573 - accuracy: 0.7216 - val_loss: 0.5571 - val_accuracy: 0.7175\n",
      "Epoch 60/150\n",
      "44/44 [==============================] - 160s 4s/step - loss: 0.5609 - accuracy: 0.7073 - val_loss: 0.5396 - val_accuracy: 0.7441\n",
      "Epoch 61/150\n",
      "44/44 [==============================] - 78s 2s/step - loss: 0.5585 - accuracy: 0.7176 - val_loss: 0.5692 - val_accuracy: 0.6972\n",
      "Epoch 62/150\n",
      "44/44 [==============================] - 138s 3s/step - loss: 0.5503 - accuracy: 0.7166 - val_loss: 0.5466 - val_accuracy: 0.7260\n",
      "Epoch 63/150\n",
      "44/44 [==============================] - 117s 3s/step - loss: 0.5548 - accuracy: 0.7212 - val_loss: 0.5409 - val_accuracy: 0.7271\n",
      "Epoch 64/150\n",
      "44/44 [==============================] - 75s 2s/step - loss: 0.5433 - accuracy: 0.7269 - val_loss: 0.5325 - val_accuracy: 0.7367\n",
      "Epoch 65/150\n",
      "44/44 [==============================] - 102s 2s/step - loss: 0.5332 - accuracy: 0.7361 - val_loss: 0.5305 - val_accuracy: 0.7548\n",
      "Epoch 66/150\n",
      "44/44 [==============================] - 134s 3s/step - loss: 0.5447 - accuracy: 0.7116 - val_loss: 0.5441 - val_accuracy: 0.7217\n",
      "Epoch 67/150\n",
      "44/44 [==============================] - 62s 1s/step - loss: 0.5359 - accuracy: 0.7283 - val_loss: 0.5444 - val_accuracy: 0.7399\n",
      "Epoch 68/150\n",
      "44/44 [==============================] - 70s 2s/step - loss: 0.5434 - accuracy: 0.7212 - val_loss: 0.5487 - val_accuracy: 0.7217\n",
      "Epoch 69/150\n",
      "44/44 [==============================] - 157s 4s/step - loss: 0.5388 - accuracy: 0.7219 - val_loss: 0.5472 - val_accuracy: 0.7281\n",
      "Epoch 70/150\n",
      "44/44 [==============================] - 73s 2s/step - loss: 0.5378 - accuracy: 0.7304 - val_loss: 0.5320 - val_accuracy: 0.7281\n",
      "Epoch 71/150\n",
      "44/44 [==============================] - 73s 2s/step - loss: 0.5451 - accuracy: 0.7230 - val_loss: 0.5447 - val_accuracy: 0.7196\n",
      "Epoch 72/150\n",
      "44/44 [==============================] - 51s 1s/step - loss: 0.5352 - accuracy: 0.7319 - val_loss: 0.5713 - val_accuracy: 0.6994\n",
      "Epoch 73/150\n",
      "44/44 [==============================] - 118s 3s/step - loss: 0.5229 - accuracy: 0.7336 - val_loss: 0.5607 - val_accuracy: 0.7324\n",
      "Epoch 74/150\n",
      "44/44 [==============================] - 126s 3s/step - loss: 0.5315 - accuracy: 0.7354 - val_loss: 0.5448 - val_accuracy: 0.7271\n",
      "Epoch 75/150\n",
      "44/44 [==============================] - 59s 1s/step - loss: 0.5237 - accuracy: 0.7404 - val_loss: 0.5159 - val_accuracy: 0.7473\n",
      "Epoch 76/150\n",
      "44/44 [==============================] - 44s 1s/step - loss: 0.5212 - accuracy: 0.7486 - val_loss: 0.5210 - val_accuracy: 0.7495\n",
      "Epoch 77/150\n",
      "44/44 [==============================] - 59s 1s/step - loss: 0.5289 - accuracy: 0.7408 - val_loss: 0.5356 - val_accuracy: 0.7399\n",
      "Epoch 78/150\n",
      "44/44 [==============================] - 145s 3s/step - loss: 0.5151 - accuracy: 0.7454 - val_loss: 0.5311 - val_accuracy: 0.7399\n",
      "Epoch 79/150\n",
      "44/44 [==============================] - 119s 3s/step - loss: 0.5300 - accuracy: 0.7393 - val_loss: 0.5138 - val_accuracy: 0.7175\n",
      "Epoch 80/150\n",
      "44/44 [==============================] - 62s 1s/step - loss: 0.5235 - accuracy: 0.7372 - val_loss: 0.6027 - val_accuracy: 0.6887\n",
      "Epoch 81/150\n",
      "44/44 [==============================] - 43s 982ms/step - loss: 0.5192 - accuracy: 0.7461 - val_loss: 0.5521 - val_accuracy: 0.7281\n",
      "Epoch 82/150\n",
      "44/44 [==============================] - 57s 1s/step - loss: 0.5219 - accuracy: 0.7404 - val_loss: 0.5427 - val_accuracy: 0.7377\n",
      "Epoch 83/150\n",
      "44/44 [==============================] - 154s 4s/step - loss: 0.5066 - accuracy: 0.7489 - val_loss: 0.5174 - val_accuracy: 0.7516\n",
      "Epoch 84/150\n",
      "44/44 [==============================] - 162s 4s/step - loss: 0.5149 - accuracy: 0.7493 - val_loss: 0.5051 - val_accuracy: 0.7665\n",
      "Epoch 85/150\n",
      "44/44 [==============================] - 142s 3s/step - loss: 0.5182 - accuracy: 0.7418 - val_loss: 0.5691 - val_accuracy: 0.7196\n",
      "Epoch 86/150\n",
      "44/44 [==============================] - 134s 3s/step - loss: 0.4936 - accuracy: 0.7536 - val_loss: 0.5221 - val_accuracy: 0.7239\n",
      "Epoch 87/150\n",
      "44/44 [==============================] - 57s 1s/step - loss: 0.5138 - accuracy: 0.7507 - val_loss: 0.5118 - val_accuracy: 0.7452\n",
      "Epoch 88/150\n",
      "44/44 [==============================] - 102s 2s/step - loss: 0.5023 - accuracy: 0.7493 - val_loss: 0.5599 - val_accuracy: 0.7271\n",
      "Epoch 89/150\n",
      "44/44 [==============================] - 174s 4s/step - loss: 0.5095 - accuracy: 0.7550 - val_loss: 0.5881 - val_accuracy: 0.7186\n",
      "Epoch 90/150\n",
      "44/44 [==============================] - 84s 2s/step - loss: 0.5095 - accuracy: 0.7600 - val_loss: 0.5182 - val_accuracy: 0.7463\n",
      "Epoch 91/150\n",
      "44/44 [==============================] - 48s 1s/step - loss: 0.4861 - accuracy: 0.7617 - val_loss: 0.6683 - val_accuracy: 0.6450\n",
      "Epoch 92/150\n",
      "44/44 [==============================] - 53s 1s/step - loss: 0.5015 - accuracy: 0.7603 - val_loss: 0.4703 - val_accuracy: 0.7783\n",
      "Epoch 93/150\n",
      "44/44 [==============================] - 151s 3s/step - loss: 0.4525 - accuracy: 0.7902 - val_loss: 0.7234 - val_accuracy: 0.6631\n",
      "Epoch 94/150\n",
      "44/44 [==============================] - 140s 3s/step - loss: 0.4571 - accuracy: 0.7792 - val_loss: 0.5272 - val_accuracy: 0.7431\n",
      "Epoch 95/150\n",
      "44/44 [==============================] - 66s 1s/step - loss: 0.4450 - accuracy: 0.7888 - val_loss: 0.4887 - val_accuracy: 0.7793\n",
      "Epoch 96/150\n",
      "44/44 [==============================] - 112s 3s/step - loss: 0.4440 - accuracy: 0.7774 - val_loss: 0.4070 - val_accuracy: 0.8145\n",
      "Epoch 97/150\n",
      "44/44 [==============================] - 132s 3s/step - loss: 0.4185 - accuracy: 0.8094 - val_loss: 0.4082 - val_accuracy: 0.8156\n",
      "Epoch 98/150\n",
      "44/44 [==============================] - 158s 4s/step - loss: 0.4450 - accuracy: 0.7838 - val_loss: 0.3740 - val_accuracy: 0.8337\n",
      "Epoch 99/150\n",
      "44/44 [==============================] - 104s 2s/step - loss: 0.4238 - accuracy: 0.8065 - val_loss: 0.4260 - val_accuracy: 0.7985\n",
      "Epoch 100/150\n",
      "44/44 [==============================] - 161s 4s/step - loss: 0.4001 - accuracy: 0.8154 - val_loss: 0.6078 - val_accuracy: 0.6908\n",
      "Epoch 101/150\n",
      "44/44 [==============================] - 54s 1s/step - loss: 0.3940 - accuracy: 0.8094 - val_loss: 0.5539 - val_accuracy: 0.7111\n",
      "Epoch 102/150\n",
      "44/44 [==============================] - 121s 3s/step - loss: 0.4007 - accuracy: 0.7994 - val_loss: 0.3791 - val_accuracy: 0.8326\n",
      "Epoch 103/150\n",
      "44/44 [==============================] - 114s 3s/step - loss: 0.3869 - accuracy: 0.8165 - val_loss: 0.3788 - val_accuracy: 0.8284\n",
      "Epoch 104/150\n",
      "44/44 [==============================] - 123s 3s/step - loss: 0.3754 - accuracy: 0.8204 - val_loss: 0.3549 - val_accuracy: 0.8380\n",
      "Epoch 105/150\n",
      "44/44 [==============================] - 89s 2s/step - loss: 0.3711 - accuracy: 0.8300 - val_loss: 0.3598 - val_accuracy: 0.8273\n",
      "Epoch 106/150\n",
      "44/44 [==============================] - 58s 1s/step - loss: 0.3732 - accuracy: 0.8190 - val_loss: 0.3786 - val_accuracy: 0.8209\n",
      "Epoch 107/150\n",
      "44/44 [==============================] - 123s 3s/step - loss: 0.3799 - accuracy: 0.8218 - val_loss: 0.3692 - val_accuracy: 0.8358\n",
      "Epoch 108/150\n",
      "44/44 [==============================] - 158s 4s/step - loss: 0.3577 - accuracy: 0.8325 - val_loss: 0.3830 - val_accuracy: 0.8188\n",
      "Epoch 109/150\n",
      "44/44 [==============================] - 176s 4s/step - loss: 0.3579 - accuracy: 0.8368 - val_loss: 0.3322 - val_accuracy: 0.8529\n",
      "Epoch 110/150\n",
      "44/44 [==============================] - 55s 1s/step - loss: 0.3617 - accuracy: 0.8297 - val_loss: 0.3578 - val_accuracy: 0.8294\n",
      "Epoch 111/150\n",
      "44/44 [==============================] - 96s 2s/step - loss: 0.3600 - accuracy: 0.8417 - val_loss: 0.4102 - val_accuracy: 0.8006\n",
      "Epoch 112/150\n",
      "44/44 [==============================] - 177s 4s/step - loss: 0.3553 - accuracy: 0.8332 - val_loss: 0.3491 - val_accuracy: 0.8337\n",
      "Epoch 113/150\n",
      "44/44 [==============================] - 80s 2s/step - loss: 0.3556 - accuracy: 0.8428 - val_loss: 0.3588 - val_accuracy: 0.8337\n",
      "Epoch 114/150\n",
      "44/44 [==============================] - 72s 2s/step - loss: 0.3446 - accuracy: 0.8453 - val_loss: 0.4071 - val_accuracy: 0.8028\n",
      "Epoch 115/150\n"
     ]
    },
    {
     "name": "stdout",
     "output_type": "stream",
     "text": [
      "44/44 [==============================] - 152s 4s/step - loss: 0.3391 - accuracy: 0.8457 - val_loss: 0.4064 - val_accuracy: 0.7846\n",
      "Epoch 116/150\n",
      "44/44 [==============================] - 102s 2s/step - loss: 0.3576 - accuracy: 0.8368 - val_loss: 0.3855 - val_accuracy: 0.8198\n",
      "Epoch 117/150\n",
      "44/44 [==============================] - 89s 2s/step - loss: 0.3372 - accuracy: 0.8510 - val_loss: 0.3526 - val_accuracy: 0.8443\n",
      "Epoch 118/150\n",
      "44/44 [==============================] - 131s 3s/step - loss: 0.3371 - accuracy: 0.8410 - val_loss: 0.3912 - val_accuracy: 0.8262\n",
      "Epoch 119/150\n",
      "44/44 [==============================] - 80s 2s/step - loss: 0.3438 - accuracy: 0.8432 - val_loss: 0.3429 - val_accuracy: 0.8497\n",
      "Epoch 120/150\n",
      "44/44 [==============================] - 54s 1s/step - loss: 0.3243 - accuracy: 0.8489 - val_loss: 0.3477 - val_accuracy: 0.8401\n",
      "Epoch 121/150\n",
      "44/44 [==============================] - 182s 4s/step - loss: 0.3185 - accuracy: 0.8460 - val_loss: 0.3446 - val_accuracy: 0.8337\n",
      "Epoch 122/150\n",
      "44/44 [==============================] - 84s 2s/step - loss: 0.3225 - accuracy: 0.8499 - val_loss: 0.3783 - val_accuracy: 0.8518\n",
      "Epoch 123/150\n",
      "44/44 [==============================] - 63s 1s/step - loss: 0.3314 - accuracy: 0.8542 - val_loss: 0.3515 - val_accuracy: 0.8390\n",
      "Epoch 124/150\n",
      "44/44 [==============================] - 124s 3s/step - loss: 0.3215 - accuracy: 0.8546 - val_loss: 0.3774 - val_accuracy: 0.8145\n",
      "Epoch 125/150\n",
      "44/44 [==============================] - 125s 3s/step - loss: 0.3205 - accuracy: 0.8560 - val_loss: 0.3131 - val_accuracy: 0.8689\n",
      "Epoch 126/150\n",
      "44/44 [==============================] - 65s 1s/step - loss: 0.3123 - accuracy: 0.8578 - val_loss: 0.4521 - val_accuracy: 0.8081\n",
      "Epoch 127/150\n",
      "44/44 [==============================] - 165s 4s/step - loss: 0.3494 - accuracy: 0.8364 - val_loss: 0.3194 - val_accuracy: 0.8529\n",
      "Epoch 128/150\n",
      "44/44 [==============================] - 63s 1s/step - loss: 0.3173 - accuracy: 0.8542 - val_loss: 0.3624 - val_accuracy: 0.8380\n",
      "Epoch 129/150\n",
      "44/44 [==============================] - 87s 2s/step - loss: 0.3202 - accuracy: 0.8546 - val_loss: 0.3600 - val_accuracy: 0.8316\n",
      "Epoch 130/150\n",
      "44/44 [==============================] - 138s 3s/step - loss: 0.3072 - accuracy: 0.8620 - val_loss: 0.3743 - val_accuracy: 0.8380\n",
      "Epoch 131/150\n",
      "44/44 [==============================] - 55s 1s/step - loss: 0.3148 - accuracy: 0.8567 - val_loss: 0.3454 - val_accuracy: 0.8348\n",
      "Epoch 132/150\n",
      "44/44 [==============================] - 125s 3s/step - loss: 0.3056 - accuracy: 0.8638 - val_loss: 0.3938 - val_accuracy: 0.8284\n",
      "Epoch 133/150\n",
      "44/44 [==============================] - 57s 1s/step - loss: 0.3221 - accuracy: 0.8652 - val_loss: 0.3190 - val_accuracy: 0.8518\n",
      "Epoch 134/150\n",
      "44/44 [==============================] - 140s 3s/step - loss: 0.3004 - accuracy: 0.8713 - val_loss: 0.3797 - val_accuracy: 0.8273\n",
      "Epoch 135/150\n",
      "44/44 [==============================] - 72s 2s/step - loss: 0.3090 - accuracy: 0.8645 - val_loss: 0.4030 - val_accuracy: 0.8134\n",
      "Epoch 136/150\n",
      "44/44 [==============================] - 54s 1s/step - loss: 0.2948 - accuracy: 0.8702 - val_loss: 0.5110 - val_accuracy: 0.7111\n",
      "Epoch 137/150\n",
      "44/44 [==============================] - 177s 4s/step - loss: 0.3093 - accuracy: 0.8578 - val_loss: 0.3714 - val_accuracy: 0.8230\n",
      "Epoch 138/150\n",
      "44/44 [==============================] - 62s 1s/step - loss: 0.3229 - accuracy: 0.8503 - val_loss: 0.3450 - val_accuracy: 0.8369\n",
      "Epoch 139/150\n",
      "44/44 [==============================] - 58s 1s/step - loss: 0.2967 - accuracy: 0.8588 - val_loss: 0.3555 - val_accuracy: 0.8337\n",
      "Epoch 140/150\n",
      "44/44 [==============================] - 105s 2s/step - loss: 0.3046 - accuracy: 0.8688 - val_loss: 0.3417 - val_accuracy: 0.8294\n",
      "Epoch 141/150\n",
      "44/44 [==============================] - 116s 3s/step - loss: 0.3021 - accuracy: 0.8617 - val_loss: 0.3251 - val_accuracy: 0.8486\n",
      "Epoch 142/150\n",
      "44/44 [==============================] - 175s 4s/step - loss: 0.3029 - accuracy: 0.8659 - val_loss: 0.3377 - val_accuracy: 0.8454\n",
      "Epoch 143/150\n",
      "44/44 [==============================] - 107s 2s/step - loss: 0.3082 - accuracy: 0.8613 - val_loss: 0.3666 - val_accuracy: 0.8252\n",
      "Epoch 144/150\n",
      "44/44 [==============================] - 111s 2s/step - loss: 0.2843 - accuracy: 0.8777 - val_loss: 0.3121 - val_accuracy: 0.8465\n",
      "Epoch 145/150\n",
      "44/44 [==============================] - 150s 3s/step - loss: 0.2920 - accuracy: 0.8709 - val_loss: 0.3206 - val_accuracy: 0.8422\n",
      "Epoch 146/150\n",
      "44/44 [==============================] - 158s 4s/step - loss: 0.2943 - accuracy: 0.8741 - val_loss: 0.3050 - val_accuracy: 0.8593\n",
      "Epoch 147/150\n",
      "44/44 [==============================] - 154s 3s/step - loss: 0.2685 - accuracy: 0.8787 - val_loss: 0.3477 - val_accuracy: 0.8475\n",
      "Epoch 148/150\n",
      "44/44 [==============================] - 213s 5s/step - loss: 0.2866 - accuracy: 0.8738 - val_loss: 0.3600 - val_accuracy: 0.8316\n",
      "Epoch 149/150\n",
      "44/44 [==============================] - 130s 3s/step - loss: 0.2662 - accuracy: 0.8802 - val_loss: 0.3131 - val_accuracy: 0.8486\n",
      "Epoch 150/150\n",
      "44/44 [==============================] - 84s 2s/step - loss: 0.2831 - accuracy: 0.8698 - val_loss: 0.3824 - val_accuracy: 0.8273\n"
     ]
    }
   ],
   "source": [
    "history=model.fit(train_images, train_labels, epochs=150, batch_size=64,validation_data=(val_images, val_labels))"
   ]
  },
  {
   "cell_type": "markdown",
   "id": "aa03c9a1",
   "metadata": {},
   "source": [
    "# Evaluate"
   ]
  },
  {
   "cell_type": "code",
   "execution_count": 29,
   "id": "1b641cfb",
   "metadata": {},
   "outputs": [
    {
     "data": {
      "image/png": "[encoded data removed]",
      "text/plain": [
       "<Figure size 432x288 with 1 Axes>"
      ]
     },
     "metadata": {
      "needs_background": "light"
     },
     "output_type": "display_data"
    }
   ],
   "source": [
    "plt.plot(history.history['accuracy'])\n",
    "plt.plot(history.history['val_accuracy'])\n",
    "plt.title('model accuracy')\n",
    "plt.ylabel('accuracy')\n",
    "plt.xlabel('epoch')\n",
    "plt.legend(['train', 'val'], loc='upper left')\n",
    "plt.show()"
   ]
  },
  {
   "cell_type": "code",
   "execution_count": 30,
   "id": "247c72fa",
   "metadata": {},
   "outputs": [
    {
     "data": {
      "image/png": "[encoded data removed]",
      "text/plain": [
       "<Figure size 432x288 with 1 Axes>"
      ]
     },
     "metadata": {
      "needs_background": "light"
     },
     "output_type": "display_data"
    }
   ],
   "source": [
    "plt.plot(history.history['loss'])\n",
    "plt.plot(history.history['val_loss'])\n",
    "plt.title('model loss')\n",
    "plt.ylabel('loss')\n",
    "plt.xlabel('epoch')\n",
    "plt.legend(['train', 'val'], loc='upper left')\n",
    "plt.show()"
   ]
  },
  {
   "cell_type": "markdown",
   "id": "95ebe202",
   "metadata": {},
   "source": [
    "#### predict for test data"
   ]
  },
  {
   "cell_type": "code",
   "execution_count": 31,
   "id": "2b48a990",
   "metadata": {},
   "outputs": [],
   "source": [
    "pred=model.predict(test_images)\n",
    "predicted_class_indices=np.argmax(pred,axis=1)"
   ]
  },
  {
   "cell_type": "code",
   "execution_count": 32,
   "id": "d6e9a087",
   "metadata": {},
   "outputs": [
    {
     "name": "stdout",
     "output_type": "stream",
     "text": [
      "accuracy is :- 0.836\n"
     ]
    }
   ],
   "source": [
    "acc=accuracy_score(predicted_class_indices,y_test)\n",
    "print('accuracy is :-',acc)"
   ]
  },
  {
   "cell_type": "code",
   "execution_count": 33,
   "id": "443e8a96",
   "metadata": {},
   "outputs": [
    {
     "data": {
      "image/png": "[encoded data removed]",
      "text/plain": [
       "<Figure size 432x288 with 2 Axes>"
      ]
     },
     "metadata": {
      "needs_background": "light"
     },
     "output_type": "display_data"
    }
   ],
   "source": [
    "#Generate the confusion matrix\n",
    "cf_matrix = confusion_matrix(predicted_class_indices,y_test)\n",
    "\n",
    "ax = sns.heatmap(cf_matrix, annot=True, cmap='Blues')\n",
    "\n",
    "ax.set_title('Seaborn Confusion Matrix with labels\\n\\n');\n",
    "ax.set_xlabel('\\nPredicted Values')\n",
    "ax.set_ylabel('Actual Values ');\n",
    "\n",
    "## Ticket labels - List must be in alphabetical order\n",
    "ax.xaxis.set_ticklabels(['False','True'])\n",
    "ax.yaxis.set_ticklabels(['False','True'])\n",
    "\n",
    "## Display the visualization of the Confusion Matrix.\n",
    "plt.show()"
   ]
  },
  {
   "cell_type": "markdown",
   "id": "ca18c5de",
   "metadata": {},
   "source": [
    "# Save model"
   ]
  },
  {
   "cell_type": "code",
   "execution_count": 34,
   "id": "d83bbeba",
   "metadata": {},
   "outputs": [
    {
     "name": "stdout",
     "output_type": "stream",
     "text": [
      "Saved model to disk\n"
     ]
    }
   ],
   "source": [
    "# serialize model to JSON\n",
    "model_json = model.to_json()\n",
    "with open(\"model.json\", \"w\") as json_file:\n",
    "    json_file.write(model_json)\n",
    "model.save_weights(\"model.h5\")\n",
    "print(\"Saved model to disk\")"
   ]
  }
 ],
 "metadata": {
  "kernelspec": {
   "display_name": "Python 3",
   "language": "python",
   "name": "python3"
  },
  "language_info": {
   "codemirror_mode": {
    "name": "ipython",
    "version": 3
   },
   "file_extension": ".py",
   "mimetype": "text/x-python",
   "name": "python",
   "nbconvert_exporter": "python",
   "pygments_lexer": "ipython3",
   "version": "3.8.8"
  },
  "toc": {
   "base_numbering": 1,
   "nav_menu": {},
   "number_sections": true,
   "sideBar": true,
   "skip_h1_title": false,
   "title_cell": "Table of Contents",
   "title_sidebar": "Contents",
   "toc_cell": false,
   "toc_position": {},
   "toc_section_display": true,
   "toc_window_display": false
  }
 },
 "nbformat": 4,
 "nbformat_minor": 5
}
